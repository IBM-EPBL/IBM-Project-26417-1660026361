{
  "nbformat": 4,
  "nbformat_minor": 0,
  "metadata": {
    "colab": {
      "provenance": [],
      "collapsed_sections": []
    },
    "kernelspec": {
      "name": "python3",
      "display_name": "Python 3"
    },
    "language_info": {
      "name": "python"
    }
  },
  "cells": [
    {
      "cell_type": "code",
      "execution_count": 20,
      "metadata": {
        "id": "87m9HFClQ73u"
      },
      "outputs": [],
      "source": [
        "!pip install -q kaggle"
      ]
    },
    {
      "cell_type": "code",
      "source": [
        "# creating a kaggle directory\n",
        "!mkdir ~/.kaggle "
      ],
      "metadata": {
        "colab": {
          "base_uri": "https://localhost:8080/"
        },
        "id": "4H92poJ2RAQ8",
        "outputId": "b90f773c-8621-4191-de86-623b79babfdf"
      },
      "execution_count": 21,
      "outputs": [
        {
          "output_type": "stream",
          "name": "stdout",
          "text": [
            "mkdir: cannot create directory ‘/root/.kaggle’: File exists\n"
          ]
        }
      ]
    },
    {
      "cell_type": "code",
      "source": [
        "#copying json file to folder\n",
        "!cp kaggle.json ~/.kaggle/"
      ],
      "metadata": {
        "id": "2pBhE8HYRMz9"
      },
      "execution_count": 22,
      "outputs": []
    },
    {
      "cell_type": "code",
      "source": [
        "# changing the permission to json\n",
        "!chmod 600 ~/.kaggle/kaggle.json"
      ],
      "metadata": {
        "id": "0Q9fUSq4RUNW"
      },
      "execution_count": 23,
      "outputs": []
    },
    {
      "cell_type": "code",
      "source": [
        "!kaggle datasets download -d dhakshidmurali/attrition-data"
      ],
      "metadata": {
        "colab": {
          "base_uri": "https://localhost:8080/"
        },
        "id": "q1Mmk1apRqrC",
        "outputId": "771a91d2-045b-464e-d44a-c565cfd37afd"
      },
      "execution_count": 24,
      "outputs": [
        {
          "output_type": "stream",
          "name": "stdout",
          "text": [
            "Downloading attrition-data.zip to /content\n",
            " 97% 10.0M/10.3M [00:01<00:00, 10.8MB/s]\n",
            "100% 10.3M/10.3M [00:01<00:00, 8.32MB/s]\n"
          ]
        }
      ]
    },
    {
      "cell_type": "code",
      "source": [
        "!unzip /content/attrition-data.zip"
      ],
      "metadata": {
        "colab": {
          "base_uri": "https://localhost:8080/"
        },
        "id": "KKJDpyVWTIYu",
        "outputId": "3253a0ac-9f97-4ab3-e6ca-1249d237af27"
      },
      "execution_count": 25,
      "outputs": [
        {
          "output_type": "stream",
          "name": "stdout",
          "text": [
            "Archive:  /content/attrition-data.zip\n",
            "  inflating: employee_survey_data.csv  \n",
            "  inflating: general_data.csv        \n",
            "  inflating: in_time.csv             \n",
            "  inflating: manager_survey_data.csv  \n",
            "  inflating: out_time.csv            \n"
          ]
        }
      ]
    },
    {
      "cell_type": "code",
      "source": [],
      "metadata": {
        "id": "4cAwEYRwTboS"
      },
      "execution_count": 8,
      "outputs": []
    }
  ]
}